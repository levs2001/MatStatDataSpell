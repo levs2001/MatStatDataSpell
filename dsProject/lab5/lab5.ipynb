{
 "cells": [
  {
   "cell_type": "markdown",
   "source": [
    "# Лабораторная 5: Проверка гипотез 2"
   ],
   "metadata": {
    "collapsed": false,
    "pycharm": {
     "name": "#%% md\n"
    }
   }
  },
  {
   "cell_type": "markdown",
   "source": [
    "## Задание 1: сравнение критерия знаков и критерия ранговых знаков (Уилкоксона)\n"
   ],
   "metadata": {
    "collapsed": false,
    "pycharm": {
     "name": "#%% md\n"
    }
   }
  },
  {
   "cell_type": "markdown",
   "source": [
    "### Пункт 1: критерий знаков"
   ],
   "metadata": {
    "collapsed": false,
    "pycharm": {
     "name": "#%% md\n"
    }
   }
  },
  {
   "cell_type": "markdown",
   "source": [
    "Будем рассматривать выборку $X: x_j \\in N(0, 7), n = 20$ и сравнивать ее с\n",
    "а) $Y: y_j = 5x_j + \\epsilon_j, \\epsilon_j \\in Uniform[-10, 10]$\n",
    "б) $Y: y_j = 5x_j + \\eta_j, \\eta_j \\in expon(20)$"
   ],
   "metadata": {
    "collapsed": false,
    "pycharm": {
     "name": "#%% md\n"
    }
   }
  },
  {
   "cell_type": "code",
   "execution_count": 1,
   "metadata": {
    "collapsed": true,
    "pycharm": {
     "name": "#%%\n"
    }
   },
   "outputs": [
    {
     "data": {
      "text/plain": "Text(0.5, 1.0, 'With exponential error')"
     },
     "execution_count": 1,
     "metadata": {},
     "output_type": "execute_result"
    },
    {
     "data": {
      "text/plain": "<Figure size 432x288 with 3 Axes>",
      "image/png": "[encoded data removed]"
     },
     "metadata": {
      "needs_background": "light"
     },
     "output_type": "display_data"
    }
   ],
   "source": [
    "import numpy as np\n",
    "import scipy.stats as st\n",
    "from utils.noise import get_with_noise\n",
    "from matplotlib import pyplot as plt\n",
    "\n",
    "distr = np.random.normal(loc=0, scale=7 ** 0.5, size=20)\n",
    "distr_a = get_with_noise(distr, lambda: st.uniform.rvs(loc=-10, scale=20), epsilon=1, factor=5)\n",
    "distr_b = get_with_noise(distr, lambda: st.expon.rvs(scale=1 / 20), epsilon=1, factor=5)\n",
    "\n",
    "fig, (plt, plt_a, plt_b) = plt.subplots(1, 3)\n",
    "plt.hist(distr, bins=25)\n",
    "plt.set_title(\"normal\")\n",
    "plt_a.hist(distr_a, bins=25)\n",
    "plt_a.set_title(\"With uniform error\")\n",
    "plt_b.hist(distr_b, bins=25)\n",
    "plt_b.set_title(\"With exponential error\")"
   ]
  },
  {
   "cell_type": "markdown",
   "source": [
    "Теперь нужно посчитать числа m (количество \" - \" [$x_i < y_i \\rightarrow \" - \"$]) и k (количество \" + \" [$x_i > y_i \\rightarrow \" + \"$])"
   ],
   "metadata": {
    "collapsed": false,
    "pycharm": {
     "name": "#%% md\n"
    }
   }
  },
  {
   "cell_type": "code",
   "execution_count": 2,
   "outputs": [],
   "source": [
    "def count_signs(distr1, distr2):\n",
    "    m = 0\n",
    "    for i in range(distr1.size):\n",
    "        if distr1[i] < distr2[i]:\n",
    "            m += 1\n",
    "    k = distr.size - m\n",
    "    return m, k"
   ],
   "metadata": {
    "collapsed": false,
    "pycharm": {
     "name": "#%%\n"
    }
   }
  },
  {
   "cell_type": "code",
   "execution_count": 3,
   "outputs": [
    {
     "name": "stdout",
     "output_type": "stream",
     "text": [
      "11 9\n"
     ]
    }
   ],
   "source": [
    "m, k = count_signs(distr, distr_a)\n",
    "print(m, k)"
   ],
   "metadata": {
    "collapsed": false,
    "pycharm": {
     "name": "#%%\n"
    }
   }
  },
  {
   "cell_type": "markdown",
   "source": [
    "Теперь рассмотрим величину $w = min(m, k) \\sim B(n, \\frac12)$\n",
    "Будем использовать левый хвост биномиального распределения в качестве статистики (такую статистику можно использовать только при $n \\leq 25$): $t = \\frac{1}{2^n} \\sum_{j = 0}^w C_n^j$\n",
    "Если $H_0 = (p = \\frac12)$ выполняется, то $t \\in [\\frac\\alpha2, 1 - \\frac\\alpha2]$ (квантили Биномиального распределения)"
   ],
   "metadata": {
    "collapsed": false,
    "pycharm": {
     "name": "#%% md\n"
    }
   }
  },
  {
   "cell_type": "code",
   "execution_count": 4,
   "outputs": [
    {
     "name": "stdout",
     "output_type": "stream",
     "text": [
      "t = 0.2517223358154297, [0.025; 0.975]\n"
     ]
    }
   ],
   "source": [
    "from math import comb\n",
    "\n",
    "w = min(m, k)\n",
    "t = 1 / 2 ** distr.size * sum([comb(distr.size, j) for j in range(w)])\n",
    "error = 0.05\n",
    "a = error / 2\n",
    "b = 1 - a\n",
    "print(f\"t = {t}, [{a}; {b}]\")"
   ],
   "metadata": {
    "collapsed": false,
    "pycharm": {
     "name": "#%%\n"
    }
   }
  },
  {
   "cell_type": "markdown",
   "source": [
    "Проделаем всё то же самое для пункта б (для шума из экпоненциального распределения):"
   ],
   "metadata": {
    "collapsed": false,
    "pycharm": {
     "name": "#%% md\n"
    }
   }
  },
  {
   "cell_type": "code",
   "execution_count": 5,
   "outputs": [
    {
     "name": "stdout",
     "output_type": "stream",
     "text": [
      "12 8\n",
      "t = 0.13158798217773438, [0.025; 0.975]\n"
     ]
    }
   ],
   "source": [
    "m, k = count_signs(distr, distr_b)\n",
    "print(m, k)\n",
    "w = min(m, k)\n",
    "t = 1 / 2 ** distr.size * sum([comb(distr.size, j) for j in range(w)])\n",
    "error = 0.05\n",
    "a = error / 2\n",
    "b = 1 - a\n",
    "print(f\"t = {t}, [{a}; {b}]\")"
   ],
   "metadata": {
    "collapsed": false,
    "pycharm": {
     "name": "#%%\n"
    }
   }
  },
  {
   "cell_type": "markdown",
   "source": [
    "### Пункт 2: критерий ранговых знаков"
   ],
   "metadata": {
    "collapsed": false,
    "pycharm": {
     "name": "#%% md\n"
    }
   }
  },
  {
   "cell_type": "markdown",
   "source": [
    "Создадим такие же выборки только побольше (n = 100).\n",
    "Находим разности между элементами выборок X и Y, упорядочиваем это множество и присваиваем каждой разности ранг (я просто пронумеровал):\n",
    "$|x_j - y_j| \\leq |x_{j + 1} - y_{j + 1}| \\leq ... \\leq |x_j_n - y_j_n|$, у каждой разности свой ранг R_j. Я ввел R_1 = 1 и т. д."
   ],
   "metadata": {
    "collapsed": false,
    "pycharm": {
     "name": "#%% md\n"
    }
   }
  },
  {
   "cell_type": "code",
   "execution_count": 6,
   "outputs": [],
   "source": [
    "distr = np.random.normal(loc=0, scale=7 ** 0.5, size=100)\n",
    "distr_a = get_with_noise(distr, lambda: st.uniform.rvs(loc=-10, scale=20), epsilon=1, factor=5)\n",
    "distr_b = get_with_noise(distr, lambda: st.expon.rvs(scale=1 / 20), epsilon=1, factor=5)\n",
    "\n"
   ],
   "metadata": {
    "collapsed": false,
    "pycharm": {
     "name": "#%%\n"
    }
   }
  },
  {
   "cell_type": "markdown",
   "source": [
    "Теперь посчитаем оценку (такую можно использовать только при $n \\leq 25$) $t = \\sum_{j = 1}^{n} = sign(x_j - y_j)R_j$\n",
    "$t\\sim$ распределение Уилкоксона с параметрами $\\mu = 0, \\sigma = \\sqrt{\\frac{n(n + 1)(2n + 1)}{6}}$\n",
    "$H_0 \\rightarrow [-W_{\\alpha, n_k}, W_{\\alpha, n_k}], W_{\\alpha, n_k}$ - критическое значение (он же квантиль Уилкоксона)\n",
    "\n",
    "Но мы будем сразу рассматривать ассимптотический критерий:\n",
    "$\\frac{t}{\\sqrt{\\frac{n(n + 1)(2n + 1)}{6}}} \\sim N(0, 1)$\n",
    "$H_0 \\rightarrow [N_{\\alpha / 2}; N_{1 - \\alpha / 2}]$"
   ],
   "metadata": {
    "collapsed": false,
    "pycharm": {
     "name": "#%% md\n"
    }
   }
  },
  {
   "cell_type": "code",
   "execution_count": 7,
   "outputs": [],
   "source": [
    "from numpy import sign\n",
    "\n",
    "\n",
    "def criteria_asympt_signs(distr1, distr2):\n",
    "    m, k = count_signs(distr1, distr2)\n",
    "    w = min(m, k)\n",
    "    t = (w - distr1.size / 2) / (distr1.size / 4) ** 0.5\n",
    "    a = st.norm.ppf(q=error / 2)\n",
    "    print(f\"t = {t}, [{a}; {-a}]\")\n",
    "\n",
    "\n",
    "def criteria_asympt_rang_signs(distr1, distr2):\n",
    "    differences = [distr1[i] - distr2[i] for i in range(distr1.size)]\n",
    "    differences.sort(key=abs)\n",
    "    n = len(differences)\n",
    "    # R_i = i + 1, because i begins from 0\n",
    "    t = sum([sign(differences[i]) * (i + 1) for i in range(n)])\n",
    "    t_assyptotic = t / (n * (n + 1) * (2 * n + 1) / 6) ** 0.5\n",
    "    a = st.norm.ppf(q=error / 2)\n",
    "    print(f\"t = {t_assyptotic} [{a}; {-a}]\")"
   ],
   "metadata": {
    "collapsed": false,
    "pycharm": {
     "name": "#%%\n"
    }
   }
  },
  {
   "cell_type": "markdown",
   "source": [
    "### Пункт 3: Сравнение ассимптотического критерия знаков и ассимтотического критерия ранговых знаков:"
   ],
   "metadata": {
    "collapsed": false,
    "pycharm": {
     "name": "#%% md\n"
    }
   }
  },
  {
   "cell_type": "code",
   "execution_count": 8,
   "outputs": [
    {
     "name": "stdout",
     "output_type": "stream",
     "text": [
      "With uniform noise: \n",
      "Symple: \n",
      "t = -1.6, [-1.9599639845400545; 1.9599639845400545]\n",
      "Rang: \n",
      "t = 1.8876403391399215 [-1.9599639845400545; 1.9599639845400545]\n",
      "With exp noise: \n",
      "Symple: \n",
      "t = -1.4, [-1.9599639845400545; 1.9599639845400545]\n",
      "Rang: \n",
      "t = 1.378768262286172 [-1.9599639845400545; 1.9599639845400545]\n"
     ]
    }
   ],
   "source": [
    "print(\"With uniform noise: \")\n",
    "print(\"Symple: \")\n",
    "criteria_asympt_signs(distr, distr_a)\n",
    "print(\"Rang: \")\n",
    "criteria_asympt_rang_signs(distr, distr_a)\n",
    "\n",
    "print(\"With exp noise: \")\n",
    "print(\"Symple: \")\n",
    "criteria_asympt_signs(distr, distr_b)\n",
    "print(\"Rang: \")\n",
    "criteria_asympt_rang_signs(distr, distr_b)\n",
    "\n"
   ],
   "metadata": {
    "collapsed": false,
    "pycharm": {
     "name": "#%%\n"
    }
   }
  },
  {
   "cell_type": "markdown",
   "source": [
    "### Пункт 4: посчитать коэф корреляции пирсона и ранговый коэф корреляции кендала и проверить коррелированность по обоим критериям"
   ],
   "metadata": {
    "collapsed": false,
    "pycharm": {
     "name": "#%% md\n"
    }
   }
  },
  {
   "cell_type": "markdown",
   "source": [
    "Посчитаем коэффициент корелляции Кендэлла и проверим гипотезу $H_0 = (r = 0)$:"
   ],
   "metadata": {
    "collapsed": false,
    "pycharm": {
     "name": "#%% md\n"
    }
   }
  },
  {
   "cell_type": "code",
   "execution_count": 9,
   "outputs": [
    {
     "name": "stdout",
     "output_type": "stream",
     "text": [
      "0.6816161616161617\n",
      "t = 10.048166041533458, [-1.9599639845400545; 1.9599639845400545]\n"
     ]
    }
   ],
   "source": [
    "r = st.kendalltau(distr, distr_a)[0]\n",
    "print(r)\n",
    "t = r / (2 * (2 * distr.size + 5) / (9 * distr.size * (distr.size - 1))) ** 0.5\n",
    "a = st.norm.ppf(q=error / 2)\n",
    "print(f\"t = {t}, [{a}; {-a}]\")"
   ],
   "metadata": {
    "collapsed": false,
    "pycharm": {
     "name": "#%%\n"
    }
   }
  },
  {
   "cell_type": "markdown",
   "source": [
    "Теперь тоже самое для коэффициента пирсона (он подчиняется распределению Стьюдента $t_{n-2}$):"
   ],
   "metadata": {
    "collapsed": false,
    "pycharm": {
     "name": "#%% md\n"
    }
   }
  },
  {
   "cell_type": "code",
   "execution_count": 10,
   "outputs": [
    {
     "name": "stdout",
     "output_type": "stream",
     "text": [
      "t = 1.8700297321425816, [-1.9844674544266925; 1.984467454426692]\n"
     ]
    }
   ],
   "source": [
    "p = st.pearsonr(distr, distr_a)[0]\n",
    "t = p / (1 - p ** 2) ** 0.5\n",
    "a = st.t.ppf(q=error / 2, df=distr.size - 2)\n",
    "b = st.t.ppf(q=1 - error / 2, df=distr.size - 2)\n",
    "print(f\"t = {t}, [{a}; {b}]\")"
   ],
   "metadata": {
    "collapsed": false,
    "pycharm": {
     "name": "#%%\n"
    }
   }
  },
  {
   "cell_type": "markdown",
   "source": [
    "Вынесем сравнение двух критериев в отдельную функцию и сравним их работу для пункта а и б."
   ],
   "metadata": {
    "collapsed": false,
    "pycharm": {
     "name": "#%% md\n"
    }
   }
  },
  {
   "cell_type": "code",
   "execution_count": 11,
   "outputs": [
    {
     "name": "stdout",
     "output_type": "stream",
     "text": [
      "Uniform noise: \n",
      "Kendell: \n",
      "t = 10.048166041533458, [-1.9599639845400545; 1.9599639845400545]\n",
      "Pearson: \n",
      "t = 1.8700297321425816, [-1.9844674544266925; 1.984467454426692]\n",
      "\n",
      "Exponential noise: \n",
      "Kendell: \n",
      "t = 14.711896930994454, [-1.9599639845400545; 1.9599639845400545]\n",
      "Pearson: \n",
      "t = 204.80830526204824, [-1.9844674544266925; 1.984467454426692]\n"
     ]
    }
   ],
   "source": [
    "def compare_correlation(distr1, distr2):\n",
    "    print(\"Kendell: \")\n",
    "    r = st.kendalltau(distr1, distr2)[0]\n",
    "    t = r / (2 * (2 * distr1.size + 5) / (9 * distr2.size * (distr1.size - 1))) ** 0.5\n",
    "    a = st.norm.ppf(q=error / 2)\n",
    "    print(f\"t = {t}, [{a}; {-a}]\")\n",
    "    print(\"Pearson: \")\n",
    "    p = st.pearsonr(distr1, distr2)[0]\n",
    "    t = p / (1 - p ** 2) ** 0.5\n",
    "    a = st.t.ppf(q=error / 2, df=distr1.size - 2)\n",
    "    b = st.t.ppf(q=1 - error / 2, df=distr1.size - 2)\n",
    "    print(f\"t = {t}, [{a}; {b}]\")\n",
    "\n",
    "\n",
    "print(\"Uniform noise: \")\n",
    "compare_correlation(distr, distr_a)\n",
    "\n",
    "print()\n",
    "print(\"Exponential noise: \")\n",
    "compare_correlation(distr, distr_b)"
   ],
   "metadata": {
    "collapsed": false,
    "pycharm": {
     "name": "#%%\n"
    }
   }
  },
  {
   "cell_type": "markdown",
   "source": [
    "### Пункт 5: Проверка автокорреляции"
   ],
   "metadata": {
    "collapsed": false,
    "pycharm": {
     "name": "#%% md\n"
    }
   }
  },
  {
   "cell_type": "markdown",
   "source": [
    "($H_0 = ${автокорреляция отсутствует $p_{auto} = 0$})"
   ],
   "metadata": {
    "collapsed": false,
    "pycharm": {
     "name": "#%% md\n"
    }
   }
  },
  {
   "cell_type": "markdown",
   "source": [
    "$n = 200$, t - статистика автокорреляции\n",
    "а) Проверить для выборки: $n = 200, N(5, 7)$\n",
    "б) Проверить для выборки: $n = 199, y_j = x_j + 0.1 * x_{j + 1}$"
   ],
   "metadata": {
    "collapsed": false,
    "pycharm": {
     "name": "#%% md\n"
    }
   }
  },
  {
   "cell_type": "code",
   "execution_count": 12,
   "outputs": [
    {
     "name": "stdout",
     "output_type": "stream",
     "text": [
      "Without autocorrelation, H should be correct\n",
      "z = 0.007535194415569017, [-1.9599639845400545; 1.9599639845400545]\n",
      "With autocorrelation, H should be incorrect\n",
      "z = 1.2169352089999899, [-1.9599639845400545; 1.9599639845400545]\n"
     ]
    }
   ],
   "source": [
    "distr_a = np.random.normal(loc=5, scale=7 ** 0.5, size=200)\n",
    "distr_b = [distr_a[i] + 0.1 * distr_a[i + 1] for i in range(distr_a.size - 1)]\n",
    "\n",
    "\n",
    "def check_autocorrelation(distr):\n",
    "    n = len(distr)\n",
    "    counter = n * sum([distr[i] * distr[i + 1] for i in range(n - 1)]) - sum(distr) ** 2 + n * distr[0] * distr[n - 1]\n",
    "    delimiter = n * sum([distr[i] ** 2 for i in range(n)]) - sum(distr) ** 2\n",
    "    t = counter / delimiter\n",
    "    # Проведем перенормировку\n",
    "    z = (t + 1 / (n + 1)) / (n * (n - 3) / ((n + 1) * (n - 1) ** 2)) ** 0.5\n",
    "    a = st.norm.ppf(q=error / 2)\n",
    "    print(f\"z = {z}, [{a}; {-a}]\")\n",
    "\n",
    "\n",
    "print(\"Without autocorrelation, H should be correct\")\n",
    "check_autocorrelation(distr_a)\n",
    "\n",
    "print(\"With autocorrelation, H should be incorrect\")\n",
    "check_autocorrelation(distr_b)"
   ],
   "metadata": {
    "collapsed": false,
    "pycharm": {
     "name": "#%%\n"
    }
   }
  },
  {
   "cell_type": "markdown",
   "source": [],
   "metadata": {
    "collapsed": false,
    "pycharm": {
     "name": "#%% md\n"
    }
   }
  },
  {
   "cell_type": "markdown",
   "source": [
    "### Пункт 6: Критерий Хсу\n",
    "Гипотеза $H_0 = $(Дисперсии $X_j$ одинаковы) против $H_1 = $(Дисперсии $X_j$ разные [начиная с некоторого номера изменилась])"
   ],
   "metadata": {
    "collapsed": false,
    "pycharm": {
     "name": "#%% md\n"
    }
   }
  },
  {
   "cell_type": "markdown",
   "source": [
    "а) Проверить исходную выборку $X_1: n = 200, N(5, 7)$\n",
    "б) Делим пополам $X_1$ и вторую половину умножаем на 1.5, потом обратно объединяем, критерием Хсу проверяем"
   ],
   "metadata": {
    "collapsed": false,
    "pycharm": {
     "name": "#%% md\n"
    }
   }
  },
  {
   "cell_type": "code",
   "execution_count": 13,
   "outputs": [
    {
     "name": "stdout",
     "output_type": "stream",
     "text": [
      "With same dispersion, H0 should be true\n",
      "t = 2.302778626297437, [-1.9599639845400545; 1.9599639845400545]\n",
      "With not same dispersion, H0 should be wrong\n",
      "t = -0.27814272286590114, [-1.9599639845400545; 1.9599639845400545]\n"
     ]
    }
   ],
   "source": [
    "def criteria_xu(distr):\n",
    "    distr.sort()\n",
    "    n = distr.size\n",
    "    median = np.median(distr)\n",
    "    t = sum([(i - 1) * (distr[i] - median) ** 2 for i in range(n)]) / (\n",
    "            (n - 1) * sum([(distr[i] - median) ** 2 for i in range(n)]))\n",
    "    # Нормируем\n",
    "    z = (t - 1 / 2) / ((n + 1) / (6 * (n - 1) * (n + 2))) ** 0.5\n",
    "    a = st.norm.ppf(q=error / 2)\n",
    "    print(f\"t = {z}, [{a}; {-a}]\")  # Пункт а\n",
    "\n",
    "print(\"With same dispersion, H0 should be true\")\n",
    "distr_a = np.random.normal(loc=5, scale=7 ** 0.5, size=200)\n",
    "criteria_xu(distr_a)\n",
    "\n",
    "print(\"With not same dispersion, H0 should be wrong\")\n",
    "distr_b = np.random.normal(loc=5, scale=7 ** 0.5, size=200)\n",
    "for i in range(distr_b.size // 2, distr_b.size):\n",
    "    distr_b[i] *= 1.5\n",
    "criteria_xu(distr_b)"
   ],
   "metadata": {
    "collapsed": false,
    "pycharm": {
     "name": "#%%\n"
    }
   }
  }
 ],
 "metadata": {
  "kernelspec": {
   "display_name": "Python 3",
   "language": "python",
   "name": "python3"
  },
  "language_info": {
   "codemirror_mode": {
    "name": "ipython",
    "version": 2
   },
   "file_extension": ".py",
   "mimetype": "text/x-python",
   "name": "python",
   "nbconvert_exporter": "python",
   "pygments_lexer": "ipython2",
   "version": "2.7.6"
  }
 },
 "nbformat": 4,
 "nbformat_minor": 0
}