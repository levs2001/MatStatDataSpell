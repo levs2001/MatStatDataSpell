{
 "cells": [
  {
   "cell_type": "markdown",
   "source": [
    "# Лабораторная 5: Проверка гипотез 2"
   ],
   "metadata": {
    "collapsed": false,
    "pycharm": {
     "name": "#%% md\n"
    }
   }
  },
  {
   "cell_type": "markdown",
   "source": [
    "## Задание 1: сравнение критерия знаков и критерия ранговых знаков (Вилкинсона)\n"
   ],
   "metadata": {
    "collapsed": false,
    "pycharm": {
     "name": "#%% md\n"
    }
   }
  },
  {
   "cell_type": "markdown",
   "source": [
    "### Пункт 1: критерий знаков"
   ],
   "metadata": {
    "collapsed": false,
    "pycharm": {
     "name": "#%% md\n"
    }
   }
  },
  {
   "cell_type": "markdown",
   "source": [
    "Будем рассматривать выборку $X: x_j \\in N(0, 7), n = 20$ и сравнивать ее с\n",
    "а) $Y: y_j = 5x_j + \\epsilon_j, \\epsilon_j \\in Uniform[-10, 10]$\n",
    "б) $Y: y_j = 5x_j + \\eta_j, \\eta_j \\in expon(20)$"
   ],
   "metadata": {
    "collapsed": false,
    "pycharm": {
     "name": "#%% md\n"
    }
   }
  },
  {
   "cell_type": "code",
   "execution_count": null,
   "metadata": {
    "collapsed": true,
    "pycharm": {
     "name": "#%%\n"
    }
   },
   "outputs": [],
   "source": [
    "import numpy as np\n",
    "\n",
    "distr1 = np.random.normal(loc=5, scale=7 ** 0.5, size=200)"
   ]
  }
 ],
 "metadata": {
  "kernelspec": {
   "display_name": "Python 3",
   "language": "python",
   "name": "python3"
  },
  "language_info": {
   "codemirror_mode": {
    "name": "ipython",
    "version": 2
   },
   "file_extension": ".py",
   "mimetype": "text/x-python",
   "name": "python",
   "nbconvert_exporter": "python",
   "pygments_lexer": "ipython2",
   "version": "2.7.6"
  }
 },
 "nbformat": 4,
 "nbformat_minor": 0
}