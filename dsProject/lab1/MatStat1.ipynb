{
 "nbformat": 4,
 "nbformat_minor": 0,
 "metadata": {
  "colab": {
   "name": "MatStat1.ipynb",
   "provenance": [],
   "authorship_tag": "ABX9TyNy62wwY9VRjDoZUI4t+VE0"
  },
  "kernelspec": {
   "name": "python3",
   "display_name": "Python 3"
  },
  "language_info": {
   "name": "python"
  }
 },
 "cells": [
  {
   "cell_type": "code",
   "execution_count": 5,
   "metadata": {
    "colab": {
     "base_uri": "https://localhost:8080/",
     "height": 268
    },
    "id": "0INthiB5SEty",
    "executionInfo": {
     "status": "ok",
     "timestamp": 1645514550127,
     "user_tz": -180,
     "elapsed": 701,
     "user": {
      "displayName": "Лев Саськов",
      "photoUrl": "https://lh3.googleusercontent.com/a-/AOh14GjjxpAglIabXTyWyS19rZxOhal2AUJwwBAjkn3Afg=s64",
      "userId": "18335635903955037676"
     }
    },
    "outputId": "927e3ddc-f0f3-472e-81e8-e21d564ac8d9",
    "pycharm": {
     "name": "#%%\n"
    }
   },
   "outputs": [
    {
     "output_type": "display_data",
     "data": {
      "image/png": "[encoded data removed]",
      "text/plain": [
       "<Figure size 432x288 with 1 Axes>"
      ]
     },
     "metadata": {}
    }
   ],
   "source": [
    "import matplotlib.pyplot as plt\n",
    "\n",
    "fig = plt.figure()   # Создание объекта Figure\n",
    "plt.scatter(1.0, 1.0)   # scatter - метод для нанесения маркера в точке (1.0, 1.0)\n",
    "plt.show()"
   ]
  }
 ]
}