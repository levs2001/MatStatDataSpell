{
 "nbformat": 4,
 "nbformat_minor": 0,
 "metadata": {
  "colab": {
   "name": "Marks.ipynb",
   "provenance": [
    {
     "file_id": "1qA_kmTPnfq0JGcTcLDj5XubDqrY61uOR",
     "timestamp": 1647686214640
    }
   ],
   "authorship_tag": "ABX9TyPlhuwQEyw40eJ+9flfZ43N"
  },
  "kernelspec": {
   "name": "python3",
   "display_name": "Python 3"
  },
  "language_info": {
   "name": "python"
  }
 },
 "cells": [
  {
   "cell_type": "markdown",
   "source": [
    "Создаем равномерное, нормальное (Гауссовское), Пуассоновское, экспоненциальное распределение и распределение коши:"
   ],
   "metadata": {
    "id": "Q040ILph6eYF",
    "pycharm": {
     "name": "#%% md\n"
    }
   }
  },
  {
   "cell_type": "code",
   "source": [
    "import numpy as np\n",
    "import scipy.stats as st\n",
    "from matplotlib import pyplot as plt\n",
    "\n",
    "distr_size = 200\n",
    "distributions = {\n",
    "    \"uniform\": np.random.uniform(low=5, high=7, size=distr_size),\n",
    "    \"gauss\": np.random.normal(size=distr_size),\n",
    "    \"poisson\": np.random.poisson(lam=9, size=distr_size),\n",
    "    \"exponential\": np.random.exponential(scale=1 / 3, size=distr_size),\n",
    "    \"caushy\": st.cauchy.rvs(loc=0, scale=2, size=distr_size)\n",
    "}"
   ],
   "metadata": {
    "id": "-zNi0vng6gTU",
    "executionInfo": {
     "status": "ok",
     "timestamp": 1647957106441,
     "user_tz": -180,
     "elapsed": 420,
     "user": {
      "displayName": "Лев Саськов",
      "photoUrl": "https://lh3.googleusercontent.com/a-/AOh14GjjxpAglIabXTyWyS19rZxOhal2AUJwwBAjkn3Afg=s64",
      "userId": "18335635903955037676"
     }
    },
    "pycharm": {
     "name": "#%%\n"
    }
   },
   "execution_count": 10,
   "outputs": []
  },
  {
   "cell_type": "markdown",
   "source": [
    "Отобразим нормальное распределение на отрезок от 17 до 22:"
   ],
   "metadata": {
    "id": "rxyiC21HSd-W",
    "pycharm": {
     "name": "#%% md\n"
    }
   }
  },
  {
   "cell_type": "code",
   "source": [
    "gauss = distributions[\"gauss\"]\n",
    "for i in range(len(gauss)):\n",
    "    gauss[i] = 17 + 22 ** 0.5 * gauss[i]"
   ],
   "metadata": {
    "id": "QWuGdt5rSj1r",
    "executionInfo": {
     "status": "ok",
     "timestamp": 1647957109236,
     "user_tz": -180,
     "elapsed": 7,
     "user": {
      "displayName": "Лев Саськов",
      "photoUrl": "https://lh3.googleusercontent.com/a-/AOh14GjjxpAglIabXTyWyS19rZxOhal2AUJwwBAjkn3Afg=s64",
      "userId": "18335635903955037676"
     }
    },
    "pycharm": {
     "name": "#%%\n"
    }
   },
   "execution_count": 11,
   "outputs": []
  },
  {
   "cell_type": "markdown",
   "source": [
    "Построим гистограммы распределений"
   ],
   "metadata": {
    "id": "LhnvJS6i5-yT",
    "pycharm": {
     "name": "#%% md\n"
    }
   }
  },
  {
   "cell_type": "code",
   "source": [
    "for distr_key in distributions:\n",
    "  plt.hist(distributions[distr_key], bins=25)\n",
    "  plt.xlabel(distr_key)\n",
    "  plt.show()"
   ],
   "metadata": {
    "colab": {
     "base_uri": "https://localhost:8080/",
     "height": 1000
    },
    "id": "ZRtMXlkx5NaK",
    "executionInfo": {
     "status": "ok",
     "timestamp": 1647957273791,
     "user_tz": -180,
     "elapsed": 1513,
     "user": {
      "displayName": "Лев Саськов",
      "photoUrl": "https://lh3.googleusercontent.com/a-/AOh14GjjxpAglIabXTyWyS19rZxOhal2AUJwwBAjkn3Afg=s64",
      "userId": "18335635903955037676"
     }
    },
    "outputId": "9f594565-5f26-47db-c9ce-9000906bf312",
    "pycharm": {
     "name": "#%%\n"
    }
   },
   "execution_count": 17,
   "outputs": [
    {
     "output_type": "display_data",
     "data": {
      "text/plain": [
       "<Figure size 432x288 with 1 Axes>"
      ],
      "image/png": "[encoded data removed]"
     },
     "metadata": {
      "needs_background": "light"
     }
    },
    {
     "output_type": "display_data",
     "data": {
      "text/plain": [
       "<Figure size 432x288 with 1 Axes>"
      ],
      "image/png": "[encoded data removed]"
     },
     "metadata": {
      "needs_background": "light"
     }
    },
    {
     "output_type": "display_data",
     "data": {
      "text/plain": [
       "<Figure size 432x288 with 1 Axes>"
      ],
      "image/png": "[encoded data removed]"
     },
     "metadata": {
      "needs_background": "light"
     }
    },
    {
     "output_type": "display_data",
     "data": {
      "text/plain": [
       "<Figure size 432x288 with 1 Axes>"
      ],
      "image/png": "[encoded data removed]"
     },
     "metadata": {
      "needs_background": "light"
     }
    },
    {
     "output_type": "display_data",
     "data": {
      "text/plain": [
       "<Figure size 432x288 with 1 Axes>"
      ],
      "image/png": "[encoded data removed]"
     },
     "metadata": {
      "needs_background": "light"
     }
    }
   ]
  },
  {
   "cell_type": "markdown",
   "source": [
    "Теперь для всех распределений посчитаем выборочное среднее:"
   ],
   "metadata": {
    "id": "5FMLtmeOUyZc",
    "pycharm": {
     "name": "#%% md\n"
    }
   }
  },
  {
   "cell_type": "code",
   "source": [
    "means = {}\n",
    "for distr in distributions:\n",
    "    means[distr] = sum(distributions[distr]) / distr_size\n",
    "print(\"Sample means : \", means)"
   ],
   "metadata": {
    "colab": {
     "base_uri": "https://localhost:8080/"
    },
    "id": "B8fnihmpVNax",
    "executionInfo": {
     "status": "ok",
     "timestamp": 1647957346142,
     "user_tz": -180,
     "elapsed": 638,
     "user": {
      "displayName": "Лев Саськов",
      "photoUrl": "https://lh3.googleusercontent.com/a-/AOh14GjjxpAglIabXTyWyS19rZxOhal2AUJwwBAjkn3Afg=s64",
      "userId": "18335635903955037676"
     }
    },
    "outputId": "fda0886f-d45f-4f92-ee9a-b5e01085819f",
    "pycharm": {
     "name": "#%%\n"
    }
   },
   "execution_count": 18,
   "outputs": [
    {
     "output_type": "stream",
     "name": "stdout",
     "text": [
      "Sample means :  {'uniform': 5.960200175707413, 'gauss': 17.05268717757926, 'poisson': 9.035, 'exponential': 0.33909975112566043, 'caushy': -2.9179754636091024}\n"
     ]
    }
   ]
  },
  {
   "cell_type": "markdown",
   "source": [
    "Посчитаем выборочные медианы и квартили 1/4 и 3/4:"
   ],
   "metadata": {
    "id": "wOwEEwZOXt-x",
    "pycharm": {
     "name": "#%% md\n"
    }
   }
  },
  {
   "cell_type": "code",
   "source": [
    "medians = {}\n",
    "quartile_1_4 = {}\n",
    "quartile_3_4 = {}\n",
    "for distr in distributions:\n",
    "    vals = distributions[distr]\n",
    "    vals.sort()\n",
    "    quartile_1_4[distr] = (vals[distr_size // 4 - 1] + vals[distr_size // 4]) / 2\n",
    "    medians[distr] = (vals[distr_size // 2 - 1] + vals[distr_size // 2]) / 2\n",
    "    quartile_3_4[distr] = (vals[3 * distr_size // 4 - 1] + vals[3 * distr_size // 4]) / 2\n",
    "    \n",
    "print(\"Sample quartile 1/4: \", quartile_1_4)\n",
    "print(\"Sample medians: \", medians)\n",
    "print(\"Sample means 3/4: \", quartile_3_4)\n"
   ],
   "metadata": {
    "colab": {
     "base_uri": "https://localhost:8080/"
    },
    "id": "K4LiQPdSXwpi",
    "executionInfo": {
     "status": "ok",
     "timestamp": 1647957382207,
     "user_tz": -180,
     "elapsed": 592,
     "user": {
      "displayName": "Лев Саськов",
      "photoUrl": "https://lh3.googleusercontent.com/a-/AOh14GjjxpAglIabXTyWyS19rZxOhal2AUJwwBAjkn3Afg=s64",
      "userId": "18335635903955037676"
     }
    },
    "outputId": "dc646c82-4d8b-4fb1-c526-1c49456f8e12",
    "pycharm": {
     "name": "#%%\n"
    }
   },
   "execution_count": 19,
   "outputs": [
    {
     "output_type": "stream",
     "name": "stdout",
     "text": [
      "Sample quartile 1/4:  {'uniform': 5.473250603409577, 'gauss': 13.734895521550246, 'poisson': 7.0, 'exponential': 0.08297922553757517, 'caushy': -1.9373597201260244}\n",
      "Sample medians:  {'uniform': 5.928605104903342, 'gauss': 17.084945347769498, 'poisson': 9.0, 'exponential': 0.20708670434631302, 'caushy': 0.3134866266916777}\n",
      "Sample means 3/4:  {'uniform': 6.485231311072514, 'gauss': 20.34229693904308, 'poisson': 11.0, 'exponential': 0.4565011494521513, 'caushy': 2.1937153272004304}\n"
     ]
    }
   ]
  },
  {
   "cell_type": "markdown",
   "source": [
    "Посчитаем дисперсию:"
   ],
   "metadata": {
    "id": "o_X-lPUOutem",
    "pycharm": {
     "name": "#%% md\n"
    }
   }
  },
  {
   "cell_type": "code",
   "source": [
    "variance = {}\n",
    "for distr in distributions:\n",
    "    variance[distr] = sum((distributions[distr] - means[distr]) ** 2) / distr_size\n",
    "print(\"Sample variance: \", variance)"
   ],
   "metadata": {
    "colab": {
     "base_uri": "https://localhost:8080/"
    },
    "id": "rIY0VkDvuzoO",
    "executionInfo": {
     "status": "ok",
     "timestamp": 1647956859835,
     "user_tz": -180,
     "elapsed": 639,
     "user": {
      "displayName": "Лев Саськов",
      "photoUrl": "https://lh3.googleusercontent.com/a-/AOh14GjjxpAglIabXTyWyS19rZxOhal2AUJwwBAjkn3Afg=s64",
      "userId": "18335635903955037676"
     }
    },
    "outputId": "88a0db90-d195-4c17-b70c-89083b821240",
    "pycharm": {
     "name": "#%%\n"
    }
   },
   "execution_count": 5,
   "outputs": [
    {
     "output_type": "stream",
     "name": "stdout",
     "text": [
      "Sample variance:  {'uniform': 0.3403130404313511, 'gauss': 21.95002153597517, 'poisson': 9.31560000000002, 'exponential': 0.09136602585169121, 'caushy': 3872.64063259632}\n"
     ]
    }
   ]
  },
  {
   "cell_type": "markdown",
   "source": [
    "Посчитаем исправленную дисперсию:"
   ],
   "metadata": {
    "id": "SAkee9yagAh_",
    "pycharm": {
     "name": "#%% md\n"
    }
   }
  },
  {
   "cell_type": "code",
   "source": [
    "corr_variance = {}\n",
    "correction = distr_size / (distr_size - 1)\n",
    "for distr in distributions:\n",
    "    corr_variance[distr] = correction * variance[distr]\n",
    "print(\"Corrected sample variance: \", corr_variance)"
   ],
   "metadata": {
    "colab": {
     "base_uri": "https://localhost:8080/"
    },
    "id": "q15JZpFVgFKd",
    "executionInfo": {
     "status": "ok",
     "timestamp": 1647956863735,
     "user_tz": -180,
     "elapsed": 984,
     "user": {
      "displayName": "Лев Саськов",
      "photoUrl": "https://lh3.googleusercontent.com/a-/AOh14GjjxpAglIabXTyWyS19rZxOhal2AUJwwBAjkn3Afg=s64",
      "userId": "18335635903955037676"
     }
    },
    "outputId": "90806a59-a7a7-4ba0-9a76-e2e21862d6de",
    "pycharm": {
     "name": "#%%\n"
    }
   },
   "execution_count": 6,
   "outputs": [
    {
     "output_type": "stream",
     "name": "stdout",
     "text": [
      "Corrected sample variance:  {'uniform': 0.34202315621241314, 'gauss': 22.06032315173384, 'poisson': 9.362412060301526, 'exponential': 0.0918251516097399, 'caushy': 3892.101138287758}\n"
     ]
    }
   ]
  },
  {
   "cell_type": "markdown",
   "source": [
    "Посчитаем коэффициенты ассиметрии (коэффициент ассиметрии говорит о том, где площадь под графиком плотности, относительно среднего, больше):"
   ],
   "metadata": {
    "id": "ee9IYvJej5bc",
    "pycharm": {
     "name": "#%% md\n"
    }
   }
  },
  {
   "cell_type": "code",
   "source": [
    "assymetry = {}\n",
    "for distr in distributions:\n",
    "    moment_3 = sum((distributions[distr] - means[distr]) ** 3) / distr_size\n",
    "    assymetry[distr] = moment_3 / (variance[distr] ** (3 / 2))\n",
    "print(\"Assymetry factor: \", assymetry)"
   ],
   "metadata": {
    "colab": {
     "base_uri": "https://localhost:8080/"
    },
    "id": "ny0HzvTdj-aa",
    "executionInfo": {
     "status": "ok",
     "timestamp": 1647956865565,
     "user_tz": -180,
     "elapsed": 12,
     "user": {
      "displayName": "Лев Саськов",
      "photoUrl": "https://lh3.googleusercontent.com/a-/AOh14GjjxpAglIabXTyWyS19rZxOhal2AUJwwBAjkn3Afg=s64",
      "userId": "18335635903955037676"
     }
    },
    "outputId": "a67dad0c-7d2d-4f20-d1a9-372a9625a873",
    "pycharm": {
     "name": "#%%\n"
    }
   },
   "execution_count": 7,
   "outputs": [
    {
     "output_type": "stream",
     "name": "stdout",
     "text": [
      "Assymetry factor:  {'uniform': 0.01456460890733195, 'gauss': -0.1229266944469929, 'poisson': 0.562219284712117, 'exponential': 1.4961792586817344, 'caushy': 12.112365194341955}\n"
     ]
    }
   ]
  },
  {
   "cell_type": "markdown",
   "source": [
    "Посчитаем коэффициент эксцесса (коэффициент эксцесса показывает на сколько отличается от стандартного распределения Гаусса):"
   ],
   "metadata": {
    "id": "LXN1pkN0n2vj",
    "pycharm": {
     "name": "#%% md\n"
    }
   }
  },
  {
   "cell_type": "code",
   "source": [
    "kurt = {}\n",
    "for distr in distributions:\n",
    "    moment_4 = sum((distributions[distr] - means[distr]) ** 4) / distr_size\n",
    "    kurt[distr] = moment_4 / (variance[distr] ** 2) - 3\n",
    "print(\"Kurtosis: \", kurt)"
   ],
   "metadata": {
    "colab": {
     "base_uri": "https://localhost:8080/"
    },
    "id": "KdvvRhbKoF3q",
    "executionInfo": {
     "status": "ok",
     "timestamp": 1647956868627,
     "user_tz": -180,
     "elapsed": 565,
     "user": {
      "displayName": "Лев Саськов",
      "photoUrl": "https://lh3.googleusercontent.com/a-/AOh14GjjxpAglIabXTyWyS19rZxOhal2AUJwwBAjkn3Afg=s64",
      "userId": "18335635903955037676"
     }
    },
    "outputId": "7b4bcca7-75ec-4cd3-8dd8-ea5984d57d28",
    "pycharm": {
     "name": "#%%\n"
    }
   },
   "execution_count": 8,
   "outputs": [
    {
     "output_type": "stream",
     "name": "stdout",
     "text": [
      "Kurtosis:  {'uniform': -1.2993477923583392, 'gauss': -0.16277569888569587, 'poisson': 0.5779724211689672, 'exponential': 1.8261182884177147, 'caushy': 157.61909261626454}\n"
     ]
    }
   ]
  },
  {
   "cell_type": "markdown",
   "source": [
    "Посчитаем коэффициент вариации:"
   ],
   "metadata": {
    "id": "7rnkos3zu-m0",
    "pycharm": {
     "name": "#%% md\n"
    }
   }
  },
  {
   "cell_type": "code",
   "source": [
    "variation = {}\n",
    "for distr in distributions:\n",
    "    variation[distr] = (variance[distr] ** (1 / 2)) / abs(means[distr])\n",
    "print(\"Variation factor: \", variation)"
   ],
   "metadata": {
    "colab": {
     "base_uri": "https://localhost:8080/"
    },
    "id": "c7uy26hrvE_C",
    "executionInfo": {
     "status": "ok",
     "timestamp": 1647956871695,
     "user_tz": -180,
     "elapsed": 8,
     "user": {
      "displayName": "Лев Саськов",
      "photoUrl": "https://lh3.googleusercontent.com/a-/AOh14GjjxpAglIabXTyWyS19rZxOhal2AUJwwBAjkn3Afg=s64",
      "userId": "18335635903955037676"
     }
    },
    "outputId": "37fffa8d-a85a-42e0-beaf-7325874e9572",
    "pycharm": {
     "name": "#%%\n"
    }
   },
   "execution_count": 9,
   "outputs": [
    {
     "output_type": "stream",
     "name": "stdout",
     "text": [
      "Variation factor:  {'uniform': 0.09707609868672072, 'gauss': 0.2804444812183577, 'poisson': 0.34371022358795233, 'exponential': 1.0271560308233163, 'caushy': 12.455747486362347}\n"
     ]
    }
   ]
  }
 ]
}