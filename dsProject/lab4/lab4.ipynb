{
 "cells": [
  {
   "cell_type": "markdown",
   "source": [
    "# Лабораторная 4: Проверка статистических гипотез"
   ],
   "metadata": {
    "collapsed": false,
    "pycharm": {
     "name": "#%% md\n"
    }
   }
  },
  {
   "cell_type": "markdown",
   "source": [
    "## Задание 1: Простые гипотезы"
   ],
   "metadata": {
    "collapsed": false,
    "pycharm": {
     "name": "#%% md\n"
    }
   }
  },
  {
   "cell_type": "markdown",
   "source": [
    "### Пункт 1: Проверка гипотезы о том, что средние 2х выборок равны"
   ],
   "metadata": {
    "collapsed": false,
    "pycharm": {
     "name": "#%% md\n"
    }
   }
  },
  {
   "cell_type": "markdown",
   "source": [
    "#### 1.1.1) Построим две несвязанные выборки: $x^{(1)} \\in N(5, 7), n_1 = 200$ и $x^{(2)} \\in N(5, 9), n_2 = 300$:"
   ],
   "metadata": {
    "collapsed": false,
    "pycharm": {
     "name": "#%% md\n"
    }
   }
  },
  {
   "cell_type": "code",
   "execution_count": 295,
   "outputs": [],
   "source": [
    "import numpy as np\n",
    "\n",
    "distr1 = np.random.normal(loc=5, scale=7 ** 0.5, size=200)\n",
    "distr2 = np.random.normal(loc=5, scale=9 ** 0.5, size=300)\n"
   ],
   "metadata": {
    "collapsed": false,
    "pycharm": {
     "name": "#%%\n"
    }
   }
  },
  {
   "cell_type": "markdown",
   "source": [
    "Проверим гипотезу на равенство средних, будем использовать T-критерий:"
   ],
   "metadata": {
    "collapsed": false,
    "pycharm": {
     "name": "#%% md\n"
    }
   }
  },
  {
   "cell_type": "code",
   "execution_count": 296,
   "outputs": [
    {
     "name": "stdout",
     "output_type": "stream",
     "text": [
      "[-1.9647389829672652; 1.9647389829672648], H criteriy = 0.21676417432449635\n"
     ]
    }
   ],
   "source": [
    "import scipy.stats as st\n",
    "\n",
    "# Вычисляем исправленную дисперсию\n",
    "disp1 = distr1.var(ddof=1)\n",
    "disp2 = distr2.var(ddof=1)\n",
    "\n",
    "# Вычисляем некую исправленную дисперсию двух дисперсий:\n",
    "sko_super = (((distr1.size - 1) * disp1 + (distr2.size - 1) * disp2) / (distr1.size + distr2.size - 2)) ** 0.5\n",
    "\n",
    "# Вычисляем величину, которая должна подчиняться распределению Стьюдента. За счет этого мы можем узнать равны ли средние\n",
    "t_criteria = (distr1.mean() - distr2.mean()) / (sko_super * (1 / distr1.size + 1 / distr2.size) ** 0.5)\n",
    "\n",
    "# Вводим ошибку первого рода (вероятность отбросить правильную гипотезу):\n",
    "alpha = 0.05\n",
    "# Вычисляем доверительный интервал для распределения Стьюдента. Если t_criteria  попадает в этот интервал, то гипотеза выполняется.\n",
    "df = distr1.size + distr2.size - 2\n",
    "a = st.t.ppf(df=df, q=alpha / 2)\n",
    "b = st.t.ppf(df=df, q=1 - alpha / 2)\n",
    "\n",
    "print(f\"[{a}; {b}], H criteriy = {t_criteria}\")\n",
    "# TODO: Группирование"
   ],
   "metadata": {
    "collapsed": false,
    "pycharm": {
     "name": "#%%\n"
    }
   }
  },
  {
   "cell_type": "markdown",
   "source": [
    "#### 1.1.2) Построим две связанные выборки: $x \\in N(3, 12)$, $y = x + \\epsilon, \\epsilon = 0.1 * uniform([-6, 6])$"
   ],
   "metadata": {
    "collapsed": false,
    "pycharm": {
     "name": "#%% md\n"
    }
   }
  },
  {
   "cell_type": "code",
   "execution_count": 297,
   "outputs": [
    {
     "data": {
      "text/plain": "<Figure size 432x288 with 2 Axes>",
      "image/png": "[encoded data removed]"
     },
     "metadata": {
      "needs_background": "light"
     },
     "output_type": "display_data"
    }
   ],
   "source": [
    "from matplotlib import pyplot as plt\n",
    "\n",
    "\n",
    "def get_y_mass(x_mass, noise_func):\n",
    "    y_mass = []\n",
    "    epsilon = 0.1\n",
    "    for el in x_mass:\n",
    "        y_mass.append(el + epsilon * noise_func())\n",
    "    return np.array(y_mass)\n",
    "\n",
    "\n",
    "distr1 = np.random.normal(loc=3, scale=12 ** 0.5, size=200)\n",
    "\n",
    "# [loc; loc + scale]\n",
    "distr2 = get_y_mass(distr1, lambda: st.uniform.rvs(loc=-6, scale=12))\n",
    "\n",
    "fig, (plt_x, plt_y) = plt.subplots(1, 2)\n",
    "plt_x.hist(distr1, bins=25)\n",
    "plt_x.set_title(\"x\")\n",
    "plt_y.hist(distr2, bins=25)\n",
    "plt_y.set_title(\"y\")\n",
    "\n",
    "plt.show()"
   ],
   "metadata": {
    "collapsed": false,
    "pycharm": {
     "name": "#%%\n"
    }
   }
  },
  {
   "cell_type": "markdown",
   "source": [
    "Теперь будем проверять гипотезу равенства средних для этих двух случайных величин (поскольку величины связанные гипотезы проверяются по-другому, $H_0 := \\overline Z = 0, H_1 := \\overline Z \\neq 0$):"
   ],
   "metadata": {
    "collapsed": false,
    "pycharm": {
     "name": "#%% md\n"
    }
   }
  },
  {
   "cell_type": "code",
   "execution_count": 298,
   "outputs": [
    {
     "name": "stdout",
     "output_type": "stream",
     "text": [
      "[-1.9719565442493954; 1.971956544249395], H criteriy = -0.3053642570314645\n"
     ]
    }
   ],
   "source": [
    "z = [distr1[i] - distr2[i] for i in range(distr1.size)]\n",
    "z_mean = sum(z) / len(z)\n",
    "s_z = (1 / (len(z) - 1) * sum([(z[i] - z_mean) ** 2 for i in range(len(z))])) ** 0.5\n",
    "t_criteria = (z_mean * len(z) ** 0.5) / s_z\n",
    "\n",
    "# Вводим ошибку первого рода (вероятность отбросить правильную гипотезу):\n",
    "alpha = 0.05\n",
    "# Вычисляем доверительный интервал для распределения Стьюдента. Если t_criteria  попадает в этот интервал, то гипотеза выполняется.\n",
    "df = len(z) - 1\n",
    "a = st.t.ppf(df=df, q=alpha / 2)\n",
    "b = st.t.ppf(df=df, q=1 - alpha / 2)\n",
    "print(f\"[{a}; {b}], H criteriy = {t_criteria}\")"
   ],
   "metadata": {
    "collapsed": false,
    "pycharm": {
     "name": "#%%\n"
    }
   }
  },
  {
   "cell_type": "markdown",
   "source": [
    "### Пункт 2: Пуассон P(9) делится пополам и проверяется гипотеза о том, что параметр правой половины равен параметру левой."
   ],
   "metadata": {
    "collapsed": false,
    "pycharm": {
     "name": "#%% md\n"
    }
   }
  },
  {
   "cell_type": "code",
   "execution_count": 299,
   "outputs": [
    {
     "name": "stdout",
     "output_type": "stream",
     "text": [
      "[-1.9599639845400545; 1.9599639845400545], H criteriy = -0.13957263155977057\n"
     ]
    }
   ],
   "source": [
    "# Создадим выборку:\n",
    "poisson_distr = st.poisson.rvs(mu=9, size=200)\n",
    "first_half = poisson_distr[:len(poisson_distr) // 2]\n",
    "second_half = poisson_distr[len(poisson_distr) // 2:]\n",
    "\n",
    "alpha = 0.05\n",
    "h_criteria = (first_half.mean() - second_half.mean()) / (first_half.mean() + second_half.mean()) ** 0.5\n",
    "a = st.norm.ppf(q=alpha / 2)\n",
    "b = -a\n",
    "\n",
    "print(f\"[{a}; {b}], H criteriy = {h_criteria}\")"
   ],
   "metadata": {
    "collapsed": false,
    "pycharm": {
     "name": "#%%\n"
    }
   }
  },
  {
   "cell_type": "markdown",
   "source": [
    "### Пункт 3: Проверить гипотезу о том, что дисперсии равны по критерию Фишера\n",
    "#### 1.3.1) Две несвязанные выборки, данные взять такие же, как в пункте 1"
   ],
   "metadata": {
    "collapsed": false,
    "pycharm": {
     "name": "#%% md\n"
    }
   }
  },
  {
   "cell_type": "code",
   "execution_count": 300,
   "outputs": [],
   "source": [
    "distr1 = np.random.normal(loc=5, scale=7 ** 0.5, size=200)\n",
    "distr2 = np.random.normal(loc=5, scale=9 ** 0.5, size=300)"
   ],
   "metadata": {
    "collapsed": false,
    "pycharm": {
     "name": "#%%\n"
    }
   }
  },
  {
   "cell_type": "markdown",
   "source": [
    "Величина $\\frac{s_{(1)}^2}{s_{(2)}^2}$ должна подчиняться распределению Фишера $F_{n_1 - 1, n_2 - 1}$"
   ],
   "metadata": {
    "collapsed": false,
    "pycharm": {
     "name": "#%% md\n"
    }
   }
  },
  {
   "cell_type": "code",
   "execution_count": 301,
   "outputs": [
    {
     "name": "stdout",
     "output_type": "stream",
     "text": [
      "[0.7729893672926245; 1.285204934412516], H criteriy = 0.7809772981058319\n"
     ]
    }
   ],
   "source": [
    "h_criteria = distr1.var(ddof=1) / distr2.var(ddof=1)\n",
    "alpha = 0.05\n",
    "dfn = distr1.size - 1\n",
    "dfd = distr2.size - 1\n",
    "a = st.f.ppf(dfn=dfn, dfd=dfd, q=alpha / 2)\n",
    "b = st.f.ppf(dfn=dfn, dfd=dfd, q=1 - alpha / 2)\n",
    "\n",
    "print(f\"[{a}; {b}], H criteriy = {h_criteria}\")"
   ],
   "metadata": {
    "collapsed": false,
    "pycharm": {
     "name": "#%%\n"
    }
   }
  },
  {
   "cell_type": "markdown",
   "source": [
    "#### 1.3.2) $N(5, 9), n = 300$ делим пополам, проверяем гипотезу о том, что у половинок равны дисперсии."
   ],
   "metadata": {
    "collapsed": false,
    "pycharm": {
     "name": "#%% md\n"
    }
   }
  },
  {
   "cell_type": "code",
   "execution_count": 302,
   "outputs": [
    {
     "name": "stdout",
     "output_type": "stream",
     "text": [
      "[0.7244337450679404; 1.3803884852247126], H criteriy = 1.0116376513214176\n"
     ]
    }
   ],
   "source": [
    "distr = np.random.normal(loc=5, scale=9 ** 0.5, size=300)\n",
    "first_half = distr[:len(distr) // 2]\n",
    "second_half = distr[len(distr) // 2:]\n",
    "h_criteria = first_half.var(ddof=1) / second_half.var(ddof=1)\n",
    "alpha = 0.05\n",
    "dfn = first_half.size - 1\n",
    "dfd = second_half.size - 1\n",
    "a = st.f.ppf(dfn=dfn, dfd=dfd, q=alpha / 2)\n",
    "b = st.f.ppf(dfn=dfn, dfd=dfd, q=1 - alpha / 2)\n",
    "\n",
    "print(f\"[{a}; {b}], H criteriy = {h_criteria}\")"
   ],
   "metadata": {
    "collapsed": false,
    "pycharm": {
     "name": "#%%\n"
    }
   }
  },
  {
   "cell_type": "markdown",
   "source": [
    "### Пункт 4: проверка гипотезы о корреляции двух величин\n",
    "Данные берем, как в пункте 1.1.2: $x \\in N(3, 12)$, $y = x + \\epsilon, \\epsilon = 0.1 * uniform([-6, 6])$\n",
    "$H_0 = \\{p = 0\\}$"
   ],
   "metadata": {
    "collapsed": false,
    "pycharm": {
     "name": "#%% md\n"
    }
   }
  },
  {
   "cell_type": "code",
   "execution_count": 320,
   "outputs": [
    {
     "name": "stdout",
     "output_type": "stream",
     "text": [
      "[-1.972017477833896; 1.972017477833896], H criteriy = 164.34032386346465\n"
     ]
    }
   ],
   "source": [
    "distr1 = np.random.normal(loc=3, scale=12 ** 0.5, size=200)\n",
    "# [loc; loc + scale]\n",
    "distr2 = get_y_mass(distr1, lambda: st.uniform.rvs(loc=-6, scale=12))\n",
    "\n",
    "# Посчитаем выборочный коэффициент корреляции\n",
    "mean1 = distr1.mean()\n",
    "mean2 = distr2.mean()\n",
    "p = sum([(distr1[i] - mean1) * (distr2[i] - mean2) for i in range(distr1.size)]) / (\n",
    "        distr1.var() * distr1.size * distr2.var() * distr2.size) ** 0.5\n",
    "\n",
    "df = distr1.size - 2\n",
    "h_criteria = p * df ** 0.5 / (1 - p ** 2) ** 0.5\n",
    "alpha=0.05\n",
    "a = st.t.ppf(df=df, q=alpha/2)\n",
    "b = -a\n",
    "\n",
    "# Если попадаем в этот интервал, то гипотеза о том, что корреляция равна 0 истинна.\n",
    "print(f\"[{a}; {b}], H criteriy = {h_criteria}\")"
   ],
   "metadata": {
    "collapsed": false,
    "pycharm": {
     "name": "#%%\n"
    }
   }
  }
 ],
 "metadata": {
  "kernelspec": {
   "display_name": "Python 3",
   "language": "python",
   "name": "python3"
  },
  "language_info": {
   "codemirror_mode": {
    "name": "ipython",
    "version": 2
   },
   "file_extension": ".py",
   "mimetype": "text/x-python",
   "name": "python",
   "nbconvert_exporter": "python",
   "pygments_lexer": "ipython2",
   "version": "2.7.6"
  }
 },
 "nbformat": 4,
 "nbformat_minor": 0
}