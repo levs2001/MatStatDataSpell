{
 "cells": [
  {
   "cell_type": "markdown",
   "source": [
    "## Задание 2: критерии согласия"
   ],
   "metadata": {
    "collapsed": false,
    "pycharm": {
     "name": "#%% md\n"
    }
   }
  },
  {
   "cell_type": "markdown",
   "source": [
    "Все критерии проверяем для выборок:\n",
    " $X_1 \\sim N(5, 7), n = 400;\\\\ X_2 \\sim X_1 + 0.1 * uniform([-6; 6]);\\\\ X_3 \\sim X_1 + 0.01 * Cauchy(0, 1) $\n",
    " $k = 10$"
   ],
   "metadata": {
    "collapsed": false,
    "pycharm": {
     "name": "#%% md\n"
    }
   }
  },
  {
   "cell_type": "markdown",
   "source": [
    "Пункт 1: Проверка критерия согласия Пирсона (нормальности, Хи-квадрат)"
   ],
   "metadata": {
    "collapsed": false,
    "pycharm": {
     "name": "#%% md\n"
    }
   }
  },
  {
   "cell_type": "code",
   "execution_count": 12,
   "metadata": {
    "collapsed": true,
    "pycharm": {
     "name": "#%%\n"
    }
   },
   "outputs": [
    {
     "name": "stdout",
     "output_type": "stream",
     "text": [
      "Mean group mark: 5.269499999999998\n",
      "Dispersion group mark: 6.532569749999998\n",
      "[2.7003894999803584; 19.02276779864163], H criteriy = 7.122921372642721\n"
     ]
    }
   ],
   "source": [
    "import numpy as np\n",
    "import scipy.stats as st\n",
    "from utils.group import group, get_mean, get_dispersion\n",
    "\n",
    "\n",
    "# Функция, считающая теоретическую частоту для нормального распределения с заданными параметрами\n",
    "def get_theoretical_frequency(a, b, mean, disp):\n",
    "    return st.norm.cdf(b, loc=mean, scale=disp ** 0.5) - st.norm.cdf(a, loc=mean, scale=disp ** 0.5)\n",
    "\n",
    "\n",
    "distr1 = np.random.normal(loc=5, scale=7 ** 0.5, size=400)\n",
    "\n",
    "#Превращаем выборку в группированную:\n",
    "k = 10\n",
    "distr1_gr = group(distr1, k)\n",
    "mean_mark = get_mean(distr1_gr, distr1.size)\n",
    "disp_mark = get_dispersion(distr1_gr, distr1.size)\n",
    "print(f\"Mean group mark: {mean_mark}\")\n",
    "print(f\"Dispersion group mark: {disp_mark}\")\n",
    "\n",
    "# Считаем статистику критерия:\n",
    "h_criteria = 0\n",
    "for sect in distr1_gr:\n",
    "    theor_freq = get_theoretical_frequency(sect.a, sect.b, mean_mark, disp_mark)\n",
    "    h_criteria += (sect.rel_frequency - theor_freq) ** 2 / theor_freq\n",
    "h_criteria *= distr1.size\n",
    "\n",
    "# Проверим, подчиняется ли он распределению Хи-квадрат, чтобы выяснить верна ли гипотеза\n",
    "# Вводим ошибку первого рода (вероятность отбросить правильную гипотезу):\n",
    "alpha = 0.05\n",
    "# Вычисляем доверительный интервал для распределения Хи-квадрат\n",
    "df = len(distr1_gr) - 1\n",
    "a = st.chi2.ppf(df=df, q=alpha / 2)\n",
    "b = st.chi2.ppf(df=df, q=1 - alpha / 2)\n",
    "\n",
    "print(f\"[{a}; {b}], H criteriy = {h_criteria}\")"
   ]
  }
 ],
 "metadata": {
  "kernelspec": {
   "display_name": "Python 3",
   "language": "python",
   "name": "python3"
  },
  "language_info": {
   "codemirror_mode": {
    "name": "ipython",
    "version": 2
   },
   "file_extension": ".py",
   "mimetype": "text/x-python",
   "name": "python",
   "nbconvert_exporter": "python",
   "pygments_lexer": "ipython2",
   "version": "2.7.6"
  }
 },
 "nbformat": 4,
 "nbformat_minor": 0
}