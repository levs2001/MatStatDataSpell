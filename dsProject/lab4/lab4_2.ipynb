{
 "cells": [
  {
   "cell_type": "markdown",
   "source": [
    "## Задание 2: критерии согласия"
   ],
   "metadata": {
    "collapsed": false,
    "pycharm": {
     "name": "#%% md\n"
    }
   }
  },
  {
   "cell_type": "markdown",
   "source": [
    "Все критерии проверяем для выборок:\n",
    " $X_1 \\sim N(5, 7), n = 400;\\\\ X_2 \\sim X_1 + 0.1 * uniform([-6; 6]);\\\\ X_3 \\sim X_1 + 0.01 * Cauchy(0, 1) $\n",
    " $k = 10$"
   ],
   "metadata": {
    "collapsed": false,
    "pycharm": {
     "name": "#%% md\n"
    }
   }
  },
  {
   "cell_type": "markdown",
   "source": [
    "Сделаем заготовки распределений, которые будем проверять:"
   ],
   "metadata": {
    "collapsed": false,
    "pycharm": {
     "name": "#%% md\n"
    }
   }
  },
  {
   "cell_type": "code",
   "execution_count": null,
   "outputs": [],
   "source": [
    "from utils.noise import get_with_noise\n",
    "from matplotlib import pyplot as plt\n",
    "import numpy as np\n",
    "import scipy.stats as st\n",
    "\n",
    "DISTR_NORMAL = np.random.normal(loc=5, scale=7 ** 0.5, size=400)\n",
    "DISTR_NORMAL_UN = get_with_noise(DISTR_NORMAL, lambda: st.uniform.rvs(loc=-6, scale=12))\n",
    "DISTR_NORMAL_CAUCHY = get_with_noise(DISTR_NORMAL, lambda: st.cauchy.rvs())\n",
    "\n",
    "fig, (plt_n, plt_u, plt_c) = plt.subplots(1, 3)\n",
    "plt_n.hist(DISTR_NORMAL, bins=25)\n",
    "plt_n.set_title(\"normal\")\n",
    "plt_u.hist(DISTR_NORMAL_UN, bins=25)\n",
    "plt_u.set_title(\"With uniform error\")\n",
    "plt_c.hist(DISTR_NORMAL_CAUCHY, bins=25)\n",
    "plt_c.set_title(\"With caushy error\")\n",
    "\n"
   ],
   "metadata": {
    "collapsed": false,
    "pycharm": {
     "name": "#%%\n"
    }
   }
  },
  {
   "cell_type": "markdown",
   "source": [
    "### Пункт 1: Проверка критерия согласия Пирсона (нормальности, Хи-квадрат)"
   ],
   "metadata": {
    "collapsed": false,
    "pycharm": {
     "name": "#%% md\n"
    }
   }
  },
  {
   "cell_type": "code",
   "execution_count": null,
   "outputs": [],
   "source": [
    "from utils.group import group, get_mean, get_dispersion\n",
    "\n",
    "\n",
    "# Функция, считающая теоретическую частоту для нормального распределения с заданными параметрами\n",
    "def get_theoretical_frequency(a, b, mean, disp):\n",
    "    return st.norm.cdf(b, loc=mean, scale=disp ** 0.5) - st.norm.cdf(a, loc=mean, scale=disp ** 0.5)\n",
    "\n",
    "\n",
    "distr1 = DISTR_NORMAL_CAUCHY\n",
    "\n",
    "#Превращаем выборку в группированную:\n",
    "k = 10\n",
    "distr1_gr = group(distr1, k)\n",
    "mean_mark = get_mean(distr1_gr, distr1.size)\n",
    "disp_mark = get_dispersion(distr1_gr, distr1.size)\n",
    "print(f\"Mean group mark: {mean_mark}\")\n",
    "print(f\"Dispersion group mark: {disp_mark}\")\n",
    "\n",
    "# Считаем статистику критерия:\n",
    "h_criteria = 0\n",
    "for sect in distr1_gr:\n",
    "    theor_freq = get_theoretical_frequency(sect.a, sect.b, mean_mark, disp_mark)\n",
    "    h_criteria += (sect.rel_frequency - theor_freq) ** 2 / theor_freq\n",
    "h_criteria *= distr1.size\n",
    "\n",
    "# Проверим, подчиняется ли он распределению Хи-квадрат, чтобы выяснить верна ли гипотеза\n",
    "# Вводим ошибку первого рода (вероятность отбросить правильную гипотезу):\n",
    "alpha = 0.05\n",
    "# Вычисляем доверительный интервал для распределения Хи-квадрат\n",
    "df = len(distr1_gr) - 1\n",
    "a = st.chi2.ppf(df=df, q=alpha / 2)\n",
    "b = st.chi2.ppf(df=df, q=1 - alpha / 2)\n",
    "\n",
    "print(f\"[{a}; {b}], H criteriy = {h_criteria}\")"
   ],
   "metadata": {
    "collapsed": false,
    "pycharm": {
     "name": "#%%\n"
    }
   }
  },
  {
   "cell_type": "markdown",
   "source": [
    "### Пункт 2: Критерий Колмагорова"
   ],
   "metadata": {
    "collapsed": false,
    "pycharm": {
     "name": "#%% md\n"
    }
   }
  },
  {
   "cell_type": "markdown",
   "source": [
    "Сначала зададим эмперическую функцию распределения:"
   ],
   "metadata": {
    "collapsed": false,
    "pycharm": {
     "name": "#%% md\n"
    }
   }
  },
  {
   "cell_type": "code",
   "execution_count": null,
   "outputs": [],
   "source": [
    "def emperic_distr_func(distr: [], x):\n",
    "    count = 0\n",
    "    for dot in distr:\n",
    "        if dot <= x:\n",
    "            count += 1\n",
    "    return count / len(distr)"
   ],
   "metadata": {
    "collapsed": false,
    "pycharm": {
     "name": "#%%\n"
    }
   }
  },
  {
   "cell_type": "markdown",
   "source": [
    "Теперь посчитаем критерий (статистику): $D_n = sup|F_n(x) - F(x)| \\approx max|F_n(x_j) - F(x_j)|$"
   ],
   "metadata": {
    "collapsed": false,
    "pycharm": {
     "name": "#%% md\n"
    }
   }
  },
  {
   "cell_type": "code",
   "execution_count": null,
   "outputs": [],
   "source": [
    "distr1 = DISTR_NORMAL_CAUCHY\n",
    "mean_mark = distr1.mean()\n",
    "std_mark = distr1.std()\n",
    "\n",
    "d_n = max([abs(emperic_distr_func(distr1, el) - st.norm.cdf(el, loc=mean_mark, scale=std_mark)) for el in distr1])\n",
    "k = distr1.size ** 0.5 * d_n\n",
    "\n",
    "alpha = 0.05\n",
    "k_a = st.kstwobign.ppf(q=alpha)\n",
    "\n",
    "print(f\"{k} <? {k_a}\")\n"
   ],
   "metadata": {
    "collapsed": false,
    "pycharm": {
     "name": "#%%\n"
    }
   }
  },
  {
   "cell_type": "markdown",
   "source": [
    "### Пункт 3: Критерий Колмагорова-Смирнова (Разделить выборку на 2 половинки и проверить гипотезу о том, что они одинаково распределены)"
   ],
   "metadata": {
    "collapsed": false,
    "pycharm": {
     "name": "#%% md\n"
    }
   }
  },
  {
   "cell_type": "code",
   "execution_count": null,
   "outputs": [],
   "source": [
    "distr = DISTR_NORMAL\n",
    "first_half = distr[:distr.size // 2]\n",
    "second_half = distr[distr.size // 2:]\n",
    "first_half.sort()\n",
    "second_half.sort()\n",
    "d_n1 = max([abs(emperic_distr_func(first_half, el) - emperic_distr_func(second_half, el)) for el in\n",
    "            first_half])\n",
    "d_n2 = max([abs(emperic_distr_func(first_half, el) - emperic_distr_func(second_half, el)) for el in\n",
    "            second_half])\n",
    "\n",
    "d_n = max(d_n1, d_n2)\n",
    "k = (first_half.size * second_half.size / (first_half.size + second_half.size)) ** 0.5 * d_n\n",
    "\n",
    "alpha = 0.05\n",
    "k_a = st.kstwobign.ppf(q=1 - alpha)\n",
    "print(f\"{k} <? {k_a}\")"
   ],
   "metadata": {
    "collapsed": false,
    "pycharm": {
     "name": "#%%\n"
    }
   }
  },
  {
   "cell_type": "code",
   "execution_count": null,
   "outputs": [],
   "source": [],
   "metadata": {
    "collapsed": false,
    "pycharm": {
     "name": "#%%\n"
    }
   }
  },
  {
   "cell_type": "code",
   "execution_count": null,
   "outputs": [],
   "source": [],
   "metadata": {
    "collapsed": false,
    "pycharm": {
     "name": "#%%\n"
    }
   }
  },
  {
   "cell_type": "code",
   "execution_count": 33,
   "outputs": [
    {
     "data": {
      "text/plain": "Text(0.5, 1.0, 'With caushy error')"
     },
     "execution_count": 33,
     "metadata": {},
     "output_type": "execute_result"
    },
    {
     "data": {
      "text/plain": "<Figure size 432x288 with 3 Axes>",
      "image/png": "[encoded data removed]"
     },
     "metadata": {
      "needs_background": "light"
     },
     "output_type": "display_data"
    }
   ],
   "source": [
    "from utils.noise import get_with_noise\n",
    "from matplotlib import pyplot as plt\n",
    "import numpy as np\n",
    "import scipy.stats as st\n",
    "\n",
    "DISTR_NORMAL = np.random.normal(loc=5, scale=7 ** 0.5, size=400)\n",
    "DISTR_NORMAL_UN = get_with_noise(DISTR_NORMAL, lambda: st.uniform.rvs(loc=-6, scale=12))\n",
    "DISTR_NORMAL_CAUCHY = get_with_noise(DISTR_NORMAL, lambda: st.cauchy.rvs())\n",
    "\n",
    "fig, (plt_n, plt_u, plt_c) = plt.subplots(1, 3)\n",
    "plt_n.hist(DISTR_NORMAL, bins=25)\n",
    "plt_n.set_title(\"normal\")\n",
    "plt_u.hist(DISTR_NORMAL_UN, bins=25)\n",
    "plt_u.set_title(\"With uniform error\")\n",
    "plt_c.hist(DISTR_NORMAL_CAUCHY, bins=25)\n",
    "plt_c.set_title(\"With caushy error\")\n",
    "\n"
   ],
   "metadata": {
    "collapsed": false,
    "pycharm": {
     "name": "#%%\n"
    }
   }
  },
  {
   "cell_type": "markdown",
   "source": [
    "### Пункт 1: Проверка критерия согласия Пирсона (нормальности, Хи-квадрат)"
   ],
   "metadata": {
    "collapsed": false,
    "pycharm": {
     "name": "#%% md\n"
    }
   }
  },
  {
   "cell_type": "code",
   "execution_count": 24,
   "outputs": [
    {
     "name": "stdout",
     "output_type": "stream",
     "text": [
      "Mean group mark: 4.819999999999999\n",
      "Dispersion group mark: 8.2524\n",
      "[2.7003894999803584; 19.02276779864163], H criteriy = 720.1572086765968\n"
     ]
    }
   ],
   "source": [
    "from utils.group import group, get_mean, get_dispersion\n",
    "\n",
    "\n",
    "# Функция, считающая теоретическую частоту для нормального распределения с заданными параметрами\n",
    "def get_theoretical_frequency(a, b, mean, disp):\n",
    "    return st.norm.cdf(b, loc=mean, scale=disp ** 0.5) - st.norm.cdf(a, loc=mean, scale=disp ** 0.5)\n",
    "\n",
    "\n",
    "distr1 = DISTR_NORMAL_CAUCHY\n",
    "\n",
    "#Превращаем выборку в группированную:\n",
    "k = 10\n",
    "distr1_gr = group(distr1, k)\n",
    "mean_mark = get_mean(distr1_gr, distr1.size)\n",
    "disp_mark = get_dispersion(distr1_gr, distr1.size)\n",
    "print(f\"Mean group mark: {mean_mark}\")\n",
    "print(f\"Dispersion group mark: {disp_mark}\")\n",
    "\n",
    "# Считаем статистику критерия:\n",
    "h_criteria = 0\n",
    "for sect in distr1_gr:\n",
    "    theor_freq = get_theoretical_frequency(sect.a, sect.b, mean_mark, disp_mark)\n",
    "    h_criteria += (sect.rel_frequency - theor_freq) ** 2 / theor_freq\n",
    "h_criteria *= distr1.size\n",
    "\n",
    "# Проверим, подчиняется ли он распределению Хи-квадрат, чтобы выяснить верна ли гипотеза\n",
    "# Вводим ошибку первого рода (вероятность отбросить правильную гипотезу):\n",
    "alpha = 0.05\n",
    "# Вычисляем доверительный интервал для распределения Хи-квадрат\n",
    "df = len(distr1_gr) - 1\n",
    "a = st.chi2.ppf(df=df, q=alpha / 2)\n",
    "b = st.chi2.ppf(df=df, q=1 - alpha / 2)\n",
    "\n",
    "print(f\"[{a}; {b}], H criteriy = {h_criteria}\")"
   ],
   "metadata": {
    "collapsed": false,
    "pycharm": {
     "name": "#%%\n"
    }
   }
  },
  {
   "cell_type": "markdown",
   "source": [
    "### Пункт 2: Критерий Колмагорова"
   ],
   "metadata": {
    "collapsed": false,
    "pycharm": {
     "name": "#%% md\n"
    }
   }
  },
  {
   "cell_type": "markdown",
   "source": [
    "Сначала зададим эмперическую функцию распределения:"
   ],
   "metadata": {
    "collapsed": false,
    "pycharm": {
     "name": "#%% md\n"
    }
   }
  },
  {
   "cell_type": "code",
   "execution_count": 22,
   "outputs": [],
   "source": [
    "def emperic_distr_func(distr: [], x):\n",
    "    count = 0\n",
    "    for dot in distr:\n",
    "        if dot <= x:\n",
    "            count += 1\n",
    "    return count / len(distr)"
   ],
   "metadata": {
    "collapsed": false,
    "pycharm": {
     "name": "#%%\n"
    }
   }
  },
  {
   "cell_type": "markdown",
   "source": [
    "Теперь посчитаем критерий (статистику): $D_n = sup|F_n(x) - F(x)| \\approx max|F_n(x_j) - F(x_j)|$"
   ],
   "metadata": {
    "collapsed": false,
    "pycharm": {
     "name": "#%% md\n"
    }
   }
  },
  {
   "cell_type": "code",
   "execution_count": 25,
   "outputs": [
    {
     "name": "stdout",
     "output_type": "stream",
     "text": [
      "0.9414569879225554 <? 0.5196103791686225\n"
     ]
    }
   ],
   "source": [
    "distr1 = DISTR_NORMAL_CAUCHY\n",
    "mean_mark = distr1.mean()\n",
    "std_mark = distr1.std()\n",
    "\n",
    "d_n = max([abs(emperic_distr_func(distr1, el) - st.norm.cdf(el, loc=mean_mark, scale=std_mark)) for el in distr1])\n",
    "k = distr1.size ** 0.5 * d_n\n",
    "\n",
    "alpha = 0.05\n",
    "k_a = st.kstwobign.ppf(q=alpha)\n",
    "\n",
    "print(f\"{k} <? {k_a}\")\n"
   ],
   "metadata": {
    "collapsed": false,
    "pycharm": {
     "name": "#%%\n"
    }
   }
  },
  {
   "cell_type": "markdown",
   "source": [
    "### Пункт 3: Критерий Колмагорова-Смирнова (Разделить выборку на 2 половинки и проверить гипотезу о том, что они одинаково распределены)"
   ],
   "metadata": {
    "collapsed": false,
    "pycharm": {
     "name": "#%% md\n"
    }
   }
  },
  {
   "cell_type": "code",
   "execution_count": 43,
   "outputs": [
    {
     "name": "stdout",
     "output_type": "stream",
     "text": [
      "0.7500000000000001 <? 1.3580986393225505\n"
     ]
    }
   ],
   "source": [
    "distr = DISTR_NORMAL\n",
    "first_half = distr[:distr.size // 2]\n",
    "second_half = distr[distr.size // 2:]\n",
    "first_half.sort()\n",
    "second_half.sort()\n",
    "d_n1 = max([abs(emperic_distr_func(first_half, el) - emperic_distr_func(second_half, el)) for el in\n",
    "            first_half])\n",
    "d_n2 = max([abs(emperic_distr_func(first_half, el) - emperic_distr_func(second_half, el)) for el in\n",
    "            second_half])\n",
    "\n",
    "d_n = max(d_n1, d_n2)\n",
    "k = (first_half.size * second_half.size / (first_half.size + second_half.size)) ** 0.5 * d_n\n",
    "\n",
    "alpha = 0.05\n",
    "k_a = st.kstwobign.ppf(q=1 - alpha)\n",
    "print(f\"{k} <? {k_a}\")"
   ],
   "metadata": {
    "collapsed": false,
    "pycharm": {
     "name": "#%%\n"
    }
   }
  },
  {
   "cell_type": "code",
   "execution_count": 16,
   "outputs": [],
   "source": [],
   "metadata": {
    "collapsed": false,
    "pycharm": {
     "name": "#%%\n"
    }
   }
  },
  {
   "cell_type": "code",
   "execution_count": null,
   "outputs": [],
   "source": [],
   "metadata": {
    "collapsed": false,
    "pycharm": {
     "name": "#%%\n"
    }
   }
  },
  {
   "cell_type": "code",
   "execution_count": 12,
   "metadata": {
    "collapsed": true,
    "pycharm": {
     "name": "#%%\n"
    }
   },
   "outputs": [
    {
     "name": "stdout",
     "output_type": "stream",
     "text": [
      "Mean group mark: 5.269499999999998\n",
      "Dispersion group mark: 6.532569749999998\n",
      "[2.7003894999803584; 19.02276779864163], H criteriy = 7.122921372642721\n"
     ]
    }
   ],
   "source": [
    "import numpy as np\n",
    "import scipy.stats as st\n",
    "from utils.group import group, get_mean, get_dispersion\n",
    "\n",
    "\n",
    "# Функция, считающая теоретическую частоту для нормального распределения с заданными параметрами\n",
    "def get_theoretical_frequency(a, b, mean, disp):\n",
    "    return st.norm.cdf(b, loc=mean, scale=disp ** 0.5) - st.norm.cdf(a, loc=mean, scale=disp ** 0.5)\n",
    "\n",
    "\n",
    "distr1 = np.random.normal(loc=5, scale=7 ** 0.5, size=400)\n",
    "\n",
    "#Превращаем выборку в группированную:\n",
    "k = 10\n",
    "distr1_gr = group(distr1, k)\n",
    "mean_mark = get_mean(distr1_gr, distr1.size)\n",
    "disp_mark = get_dispersion(distr1_gr, distr1.size)\n",
    "print(f\"Mean group mark: {mean_mark}\")\n",
    "print(f\"Dispersion group mark: {disp_mark}\")\n",
    "\n",
    "# Считаем статистику критерия:\n",
    "h_criteria = 0\n",
    "for sect in distr1_gr:\n",
    "    theor_freq = get_theoretical_frequency(sect.a, sect.b, mean_mark, disp_mark)\n",
    "    h_criteria += (sect.rel_frequency - theor_freq) ** 2 / theor_freq\n",
    "h_criteria *= distr1.size\n",
    "\n",
    "# Проверим, подчиняется ли он распределению Хи-квадрат, чтобы выяснить верна ли гипотеза\n",
    "# Вводим ошибку первого рода (вероятность отбросить правильную гипотезу):\n",
    "alpha = 0.05\n",
    "# Вычисляем доверительный интервал для распределения Хи-квадрат\n",
    "df = len(distr1_gr) - 1\n",
    "a = st.chi2.ppf(df=df, q=alpha / 2)\n",
    "b = st.chi2.ppf(df=df, q=1 - alpha / 2)\n",
    "\n",
    "print(f\"[{a}; {b}], H criteriy = {h_criteria}\")"
   ]
  }
 ],
 "metadata": {
  "kernelspec": {
   "display_name": "Python 3",
   "language": "python",
   "name": "python3"
  },
  "language_info": {
   "codemirror_mode": {
    "name": "ipython",
    "version": 2
   },
   "file_extension": ".py",
   "mimetype": "text/x-python",
   "name": "python",
   "nbconvert_exporter": "python",
   "pygments_lexer": "ipython2",
   "version": "2.7.6"
  }
 },
 "nbformat": 4,
 "nbformat_minor": 0
}